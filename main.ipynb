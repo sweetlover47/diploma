{
 "cells": [
  {
   "cell_type": "code",
   "execution_count": 1,
   "outputs": [],
   "source": [
    "import modules.lemmatize as lm\n",
    "import modules.vocabulary as vb\n",
    "import modules.same_root_package.same_root as smr\n",
    "import modules.same_root_package.same_root_graph as smr_graph\n",
    "import modules.print_result as pr_res\n",
    "import modules.word_form_package.word_form as wf\n",
    "import modules.synonym_package.synonym as syn\n",
    "import modules.synonym_package.synonym_graph as syn_graph"
   ],
   "metadata": {
    "collapsed": false,
    "pycharm": {
     "name": "#%%\n",
     "is_executing": false
    }
   }
  },
  {
   "cell_type": "code",
   "execution_count": 2,
   "outputs": [
    {
     "name": "stderr",
     "text": [
      "D:\\Programms\\python programms\\diplom_lematizer_try1\\modules\\lemmatize.py:16: FutureWarning: Possible nested set at position 24\n  text = re.sub('[,:;%©*@#$^&()\\d]|[+=]|[[]|[]]|[/]|\"|\\s{2,}', ' ', text)  # deleting symbols\n"
     ],
     "output_type": "stream"
    },
    {
     "name": "stdout",
     "text": [
      "lemmatize done\n"
     ],
     "output_type": "stream"
    }
   ],
   "source": [
    "path = 'D:\\\\Programms\\\\python programms\\\\diplom_lematizer_try1'\n",
    "text = lm.lemmatize(path)\n",
    "print('lemmatize done')"
   ],
   "metadata": {
    "collapsed": false,
    "pycharm": {
     "name": "#%%\n",
     "is_executing": false
    }
   }
  },
  {
   "cell_type": "code",
   "execution_count": 3,
   "outputs": [
    {
     "name": "stdout",
     "text": [
      "print voc done\n"
     ],
     "output_type": "stream"
    }
   ],
   "source": [
    "voc = vb.build_vocabulary(text)\n",
    "vb.print_vocabulary(voc, 'out.html.txt')\n",
    "voc.sort()\n",
    "vb.print_vocabulary(voc, 'out_sort.txt')\n",
    "voc.simplify()\n",
    "vb.print_vocabulary(voc, 'out_sort_simplified.txt')\n",
    "print('print voc done')"
   ],
   "metadata": {
    "collapsed": false,
    "pycharm": {
     "name": "#%%\n",
     "is_executing": false
    }
   }
  },
  {
   "cell_type": "code",
   "execution_count": 4,
   "outputs": [
    {
     "name": "stdout",
     "text": [
      "Прошло времени: 75.31699848175049\n",
      "construct same root table done\nconstruct same root fraph swapped done\n"
     ],
     "output_type": "stream"
    }
   ],
   "source": [
    "same_root_table = smr.construct_table(voc)\n",
    "print('construct same root table done')\n",
    "same_root_graph = smr_graph.construct_same_root_graph(voc, same_root_table)\n",
    "same_root_graph_swapped = {tuple(value): list(key) for key, value in same_root_graph.items()}\n",
    "print('construct same root fraph swapped done')"
   ],
   "metadata": {
    "collapsed": false,
    "pycharm": {
     "name": "#%%\n",
     "is_executing": false
    }
   }
  },
  {
   "cell_type": "code",
   "execution_count": 5,
   "outputs": [
    {
     "name": "stdout",
     "text": [
      "construct word form graph done\nconstruct word form graph swapped done\n"
     ],
     "output_type": "stream"
    }
   ],
   "source": [
    "word_form_graph = wf.construct_word_form_graph(voc)\n",
    "print('construct word form graph done')\n",
    "word_form_graph_swapped = {tuple(value): [key] for key, value in word_form_graph.items()}\n",
    "print('construct word form graph swapped done')"
   ],
   "metadata": {
    "collapsed": false,
    "pycharm": {
     "name": "#%%\n",
     "is_executing": false
    }
   }
  },
  {
   "cell_type": "code",
   "execution_count": 6,
   "outputs": [
    {
     "name": "stdout",
     "text": [
      "[{'pos': 'A', 'start': 0, 'end': 20}, {'pos': 'A', 'start': 20, 'end': 40}, {'pos': 'A', 'start': 40, 'end': 60}, {'pos': 'A', 'start': 60, 'end': 80}]\n",
      "[{'pos': 'N', 'start': 0, 'end': 46}, {'pos': 'N', 'start': 46, 'end': 91}, {'pos': 'N', 'start': 91, 'end': 136}, {'pos': 'N', 'start': 136, 'end': 181}]\n",
      "[{'pos': 'V', 'start': 0, 'end': 45}, {'pos': 'V', 'start': 45, 'end': 89}, {'pos': 'V', 'start': 89, 'end': 133}, {'pos': 'V', 'start': 133, 'end': 177}]\n",
      "construct synset objects for synonym done\nconstruct relation nodes done\nбольшой [[47, 4]]\nдальний [[224, 17]]\nвысокий [[416, 28]]\nгорячий [[434, 29]]\nновый [[291, 21]]\nпоследний [[39, 3]]\nвозраст [[34, 3]]\nдетство [[1, 0], [64, 5]]\nвремя [[448, 30]]\nдень [[119, 9], [261, 19]]\nвремя [[448, 30]]\nдень [[119, 9], [261, 19]]\nнедостаток [[437, 29]]\nошибка [[409, 28]]\nбыть [[4, 0], [16, 1], [36, 3], [66, 6], [187, 14], [206, 16], [286, 20], [373, 25]]\nвырасти [[43, 4]]\nехать [[121, 9]]\nкататься [[347, 23]]\nпридумать [[386, 26]]\nрешить [[201, 16]]\nспросить [[418, 28]]\nтребовать [[158, 11]]\nтаскать [[19, 2]]\nтянуть [[93, 7]]\nconstruct synonym graph swapped done\n"
     ],
     "output_type": "stream"
    }
   ],
   "source": [
    "synsets_list, synsets_dict, synsets_table = syn.construct_synset_objects(voc)\n",
    "print('construct synset objects for synonym done')\n",
    "relation_nodes = syn.construct_relations(synsets_list, synsets_dict, synsets_table)\n",
    "print('construct relation nodes done')\n",
    "synonym_graph = syn_graph.construct_synonym_graph(voc, relation_nodes)\n",
    "synonym_graph_swapped = {tuple(value): list(key) for key, value in synonym_graph.items()}\n",
    "print('construct synonym graph swapped done')"
   ],
   "metadata": {
    "collapsed": false,
    "pycharm": {
     "name": "#%%\n",
     "is_executing": false
    }
   }
  },
  {
   "cell_type": "code",
   "execution_count": 7,
   "outputs": [
    {
     "name": "stdout",
     "text": [
      "print to html done\n"
     ],
     "output_type": "stream"
    }
   ],
   "source": [
    "pr_res.print_html(\n",
    "    path,\n",
    "    'out_smr.html',\n",
    "    same_root_graph_swapped,\n",
    "    dict(),\n",
    "    dict()\n",
    ")\n",
    "\n",
    "pr_res.print_html(\n",
    "    path,\n",
    "    'out_wf.html',\n",
    "    word_form_graph_swapped,\n",
    "    dict(),\n",
    "    dict()\n",
    ")\n",
    "\n",
    "pr_res.print_html(\n",
    "    path,\n",
    "    'out_syn.html',\n",
    "    synonym_graph_swapped,\n",
    "    dict(),\n",
    "    dict()\n",
    ")\n",
    "\n",
    "pr_res.print_html(\n",
    "    path,\n",
    "    'out.html',\n",
    "    same_root_graph_swapped,\n",
    "    word_form_graph_swapped,\n",
    "    synonym_graph_swapped\n",
    ")\n",
    "print('print to html done')"
   ],
   "metadata": {
    "collapsed": false,
    "pycharm": {
     "name": "#%%\n",
     "is_executing": false
    }
   }
  }
 ],
 "metadata": {
  "kernelspec": {
   "display_name": "Python 3",
   "language": "python",
   "name": "python3"
  },
  "language_info": {
   "codemirror_mode": {
    "name": "ipython",
    "version": 3
   },
   "file_extension": ".py",
   "mimetype": "text/x-python",
   "name": "python",
   "nbconvert_exporter": "python",
   "pygments_lexer": "ipython3",
   "version": "3.8.5"
  },
  "pycharm": {
   "stem_cell": {
    "cell_type": "raw",
    "source": [],
    "metadata": {
     "collapsed": false
    }
   }
  }
 },
 "nbformat": 4,
 "nbformat_minor": 1
}